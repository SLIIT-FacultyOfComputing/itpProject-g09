{
  "nbformat": 4,
  "nbformat_minor": 0,
  "metadata": {
    "colab": {
      "provenance": []
    },
    "kernelspec": {
      "name": "python3",
      "display_name": "Python 3"
    },
    "language_info": {
      "name": "python"
    }
  },
  "cells": [
    {
      "cell_type": "markdown",
      "source": [
        "#SE4050 - Deep Learning\n",
        "## Lab Activty 04\n",
        "\n",
        "\n",
        "### Student ID : Please Enter your ID Here\n",
        "### Name : Idicate you name with initials"
      ],
      "metadata": {
        "id": "deXIS1MN7jB7"
      }
    },
    {
      "cell_type": "code",
      "execution_count": null,
      "metadata": {
        "id": "uiWLjtox7ea4"
      },
      "outputs": [],
      "source": [
        "#Imports\n",
        "#Please include all your imports here"
      ]
    },
    {
      "cell_type": "code",
      "source": [
        "#Please include any pre-processing or data visualization here. \n",
        "#must include dataset loading, train test split, here. \n",
        "#train = \n",
        "#test = \n"
      ],
      "metadata": {
        "id": "v_gkOC9w8FQS"
      },
      "execution_count": null,
      "outputs": []
    },
    {
      "cell_type": "code",
      "source": [],
      "metadata": {
        "id": "bjheomtq9m09"
      },
      "execution_count": null,
      "outputs": []
    },
    {
      "cell_type": "code",
      "source": [
        "#Please include your model here. use the below fomat. Model variable name should be 'model'\n",
        "# model = keras.Sequential()\n",
        "# model.add(........)\n"
      ],
      "metadata": {
        "id": "jFAUMg_18WVZ"
      },
      "execution_count": null,
      "outputs": []
    },
    {
      "cell_type": "code",
      "source": [
        "# Include your model evaluation here\n",
        "#must include accuracy"
      ],
      "metadata": {
        "id": "e0bin44H85aa"
      },
      "execution_count": null,
      "outputs": []
    },
    {
      "cell_type": "markdown",
      "source": [
        "Include the details of your model here. Marks will be moslty based on the desription below and how it agree with the Model you have built. So it is okay for the accuracy to be low as long as you undertand what the model you have build does and how it behaves. :)\n",
        "\n",
        "Remeber \"More Layers\" doesn't always results in \"High Accuracy\"\n",
        "\n",
        "1.  Layers\n",
        "\n",
        "\n",
        "\n",
        ">  > Layer 1 : Type of Layer, \n",
        "\n",
        "> > > Parameters(trainable)\n",
        "\n",
        "> > > Hyper-Parameters\n",
        "\n",
        "> > > dimmentions\n",
        "\n",
        "> > > usage and reson for parameter selection\n",
        "\n",
        ">  > Layer 2 : Type of layer, \n",
        "\n",
        "> > > Parameters(trainable)\n",
        "\n",
        "> > > Hyper-Parameters\n",
        "\n",
        "> > > dimmentions\n",
        "\n",
        "> > > usage reson for parameter selection\n",
        "\n",
        "\n",
        "\n",
        "\n"
      ],
      "metadata": {
        "id": "NjKHIG29-SKh"
      }
    }
  ]
}